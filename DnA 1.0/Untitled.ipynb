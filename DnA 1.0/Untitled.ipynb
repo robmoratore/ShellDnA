{
 "cells": [
  {
   "cell_type": "code",
   "execution_count": 144,
   "metadata": {},
   "outputs": [],
   "source": [
    "import re\n",
    "import os\n",
    "import json\n",
    "import pandas as pd\n",
    "import numpy as np\n",
    "from dateutil.parser import *\n",
    "from dateutil.tz import *\n",
    "from datetime import *\n",
    "import sys\n",
    "import inflect\n",
    "p = inflect.engine()\n",
    "\n",
    "from pandas.core import indexing\n",
    "\n",
    "trade_2 = \"1 mio TSKBTI 0% 01/23/25 $    XS2100270508\"\n",
    "curr_trade_split = trade_2.split(\" \")\n",
    "curr_trade_split\n",
    "\n",
    "fract_dict = [\"½\", \"⅓\", \"¼\", \"⅕\", \"⅙\", \"⅐\", \"⅛\", \"⅑\", \"⅔\", \"⅖\", \"²⁄₇\", \"²⁄₉\"]\n",
    "\n",
    "\n",
    "os.chdir(\"/home/jovyan/work\")\n",
    "ticker_df = pd.read_excel (\"ticker_data.xls\", sheet_name='Stock')"
   ]
  },
  {
   "cell_type": "code",
   "execution_count": 68,
   "metadata": {},
   "outputs": [],
   "source": [
    "def find_currency(currency_str):\n",
    "    if any(x in currency_str for x in [\"$\", \"usd\"]):\n",
    "        return \"dollar\"\n",
    "    elif any(x in currency_str for x in [\"€\", \"euro\", \"eur\"]):\n",
    "        return \"euro\"\n",
    "    elif any(x in currency_str for x in [\"¥\", \"yen\", \"eur\"]):\n",
    "        return \"yen\"\n",
    "    else:\n",
    "        return False\n",
    "    \n",
    "def find_date(date_str):\n",
    "\n",
    "    date_regex = \"^(0[1-9]|1[012])/(0[1-9]|[12][0-9]|3[01])/\\d\\d\"\n",
    "    date = re.match(date_regex, date_str, re.IGNORECASE)\n",
    "    if date:\n",
    "        date_clean = date.group(0)\n",
    "        date_parse = parse(date_clean)\n",
    "        return date_parse.strftime(\"%Y-%m-%d\")\n",
    "\n",
    "    return False\n",
    "\n",
    "def find_interest(token):\n",
    "    if token.replace('.','',1).replace('%','',1).isdigit() or token in fract_dict:\n",
    "        return token\n",
    "    return False"
   ]
  },
  {
   "cell_type": "code",
   "execution_count": 69,
   "metadata": {},
   "outputs": [
    {
     "data": {
      "text/plain": [
       "' 1 0'"
      ]
     },
     "execution_count": 69,
     "metadata": {},
     "output_type": "execute_result"
    }
   ],
   "source": [
    "date_str = \"\"\n",
    "currency_str = \"\"\n",
    "interest_str=\"\"\n",
    "\n",
    "for token in curr_trade_split:\n",
    "        \n",
    "        if find_interest(token):\n",
    "            interest_str = interest_str + \" \" + str(token)\n",
    "\n",
    "interest_str.replace('%','',1)"
   ]
  },
  {
   "cell_type": "code",
   "execution_count": 80,
   "metadata": {},
   "outputs": [
    {
     "name": "stdout",
     "output_type": "stream",
     "text": [
      "\"{'key1': 'key1value', 'key2': 'key2value'}\"\n"
     ]
    }
   ],
   "source": [
    "import ast\n",
    "str_of_dict = \"{'key1': 'key1value', 'key2': 'key2value'}\"\n",
    "import pprint\n",
    "\n",
    "# Prints the nicely formatted dictionary\n",
    "pprint.pprint(str_of_dict)"
   ]
  },
  {
   "cell_type": "code",
   "execution_count": 94,
   "metadata": {},
   "outputs": [
    {
     "data": {
      "text/plain": [
       "6.0"
      ]
     },
     "execution_count": 94,
     "metadata": {},
     "output_type": "execute_result"
    }
   ],
   "source": [
    "import unicodedata\n",
    "unicodedata.numeric('6')"
   ]
  },
  {
   "cell_type": "code",
   "execution_count": 125,
   "metadata": {},
   "outputs": [
    {
     "name": "stderr",
     "output_type": "stream",
     "text": [
      "<>:1: SyntaxWarning: \"is not\" with a literal. Did you mean \"!=\"?\n",
      "<>:1: SyntaxWarning: \"is not\" with a literal. Did you mean \"!=\"?\n",
      "<ipython-input-125-4f6bfde813f7>:1: SyntaxWarning: \"is not\" with a literal. Did you mean \"!=\"?\n",
      "  0 is not False\n"
     ]
    },
    {
     "data": {
      "text/plain": [
       "True"
      ]
     },
     "execution_count": 125,
     "metadata": {},
     "output_type": "execute_result"
    }
   ],
   "source": [
    "0 is not False"
   ]
  },
  {
   "cell_type": "code",
   "execution_count": 126,
   "metadata": {},
   "outputs": [
    {
     "name": "stdout",
     "output_type": "stream",
     "text": [
      "yay\n"
     ]
    }
   ],
   "source": [
    "token=0\n",
    "\n",
    "if token is not False:\n",
    "    print(\"yay\")"
   ]
  },
  {
   "cell_type": "code",
   "execution_count": 163,
   "metadata": {},
   "outputs": [
    {
     "data": {
      "text/plain": [
       "0          OEDV\n",
       "1          AAPL\n",
       "2           BAC\n",
       "3          AMZN\n",
       "4             T\n",
       "          ...  \n",
       "65527     OLEMC\n",
       "65528     4F1BE\n",
       "65529     ESFBE\n",
       "65530      RWWF\n",
       "65531    RLIDMC\n",
       "Name: Ticker_clean, Length: 65532, dtype: object"
      ]
     },
     "execution_count": 163,
     "metadata": {},
     "output_type": "execute_result"
    }
   ],
   "source": [
    "import string\n",
    "token=\"NESN\"\n",
    "\n",
    "\n",
    "\n",
    "ticker_df[\"Ticker_clean\"]=[''.join(c for c in s if c not in string.punctuation) for s in ticker_df[\"Ticker\"]]\n",
    "ticker_df[\"Ticker_clean\"]"
   ]
  },
  {
   "cell_type": "code",
   "execution_count": 192,
   "metadata": {},
   "outputs": [
    {
     "data": {
      "text/plain": [
       "'2021-04-10'"
      ]
     },
     "execution_count": 192,
     "metadata": {},
     "output_type": "execute_result"
    }
   ],
   "source": [
    "from dateutil.parser import parse\n",
    "string=\"11:45:18\"\n",
    "parse(string, fuzzy=True,).strftime(\"%Y-%m-%d\")"
   ]
  },
  {
   "cell_type": "code",
   "execution_count": 195,
   "metadata": {},
   "outputs": [],
   "source": [
    "string=\"11/12/22\"\n",
    "\n",
    "if re.match('\\d{2}:\\d{2}:\\d{2}', string):\n",
    "    print(\"yes\")"
   ]
  },
  {
   "cell_type": "code",
   "execution_count": 229,
   "metadata": {},
   "outputs": [
    {
     "name": "stdout",
     "output_type": "stream",
     "text": [
      "83\n"
     ]
    }
   ],
   "source": [
    "from fuzzywuzzy import fuzz\n",
    "Str1 = \"TSKBTI\"\n",
    "Str2 = \"TSKBIS\"\n",
    "Ratio = fuzz.ratio(Str1.lower(),Str2.lower())\n",
    "print(Ratio)"
   ]
  },
  {
   "cell_type": "code",
   "execution_count": 231,
   "metadata": {},
   "outputs": [
    {
     "data": {
      "text/plain": [
       "1"
      ]
     },
     "execution_count": 231,
     "metadata": {},
     "output_type": "execute_result"
    }
   ],
   "source": [
    "max([1])"
   ]
  },
  {
   "cell_type": "code",
   "execution_count": 294,
   "metadata": {},
   "outputs": [
    {
     "data": {
      "text/plain": [
       "0"
      ]
     },
     "execution_count": 294,
     "metadata": {},
     "output_type": "execute_result"
    }
   ],
   "source": [
    "from pandas import DataFrame\n",
    "\n",
    "token = \"TSKBTI\"\n",
    "dist=[]\n",
    "\n",
    "dists=[fuzz.ratio(token.lower(),x.lower()) for x in ticker_df[\"Ticker_clean\"]]\n",
    "ticker_row = ticker_df.iloc[dists.index(max(dists))].to_frame().transpose()\n",
    "ticker_row = ticker_df[ticker_df[\"Ticker_clean\"].str.contains(token.replace('.',''), flags=re.IGNORECASE, regex=True)]\n",
    "ticker_row\n",
    "\n",
    "ticker_row.shape[0]"
   ]
  },
  {
   "cell_type": "code",
   "execution_count": 297,
   "metadata": {},
   "outputs": [
    {
     "data": {
      "text/plain": [
       "'TSK'"
      ]
     },
     "execution_count": 297,
     "metadata": {},
     "output_type": "execute_result"
    }
   ],
   "source": [
    "token[:3]"
   ]
  },
  {
   "cell_type": "code",
   "execution_count": 296,
   "metadata": {},
   "outputs": [
    {
     "data": {
      "text/html": [
       "<div>\n",
       "<style scoped>\n",
       "    .dataframe tbody tr th:only-of-type {\n",
       "        vertical-align: middle;\n",
       "    }\n",
       "\n",
       "    .dataframe tbody tr th {\n",
       "        vertical-align: top;\n",
       "    }\n",
       "\n",
       "    .dataframe thead th {\n",
       "        text-align: right;\n",
       "    }\n",
       "</style>\n",
       "<table border=\"1\" class=\"dataframe\">\n",
       "  <thead>\n",
       "    <tr style=\"text-align: right;\">\n",
       "      <th></th>\n",
       "      <th>Ticker</th>\n",
       "      <th>Name</th>\n",
       "      <th>Exchange</th>\n",
       "      <th>Category Name</th>\n",
       "      <th>Country</th>\n",
       "      <th>Ticker_clean</th>\n",
       "    </tr>\n",
       "  </thead>\n",
       "  <tbody>\n",
       "    <tr>\n",
       "      <th>14276</th>\n",
       "      <td>TSKB.IS</td>\n",
       "      <td>Turkiye Sinai Kalkinma Bankasi A.S.</td>\n",
       "      <td>IST</td>\n",
       "      <td>NaN</td>\n",
       "      <td>Turkey</td>\n",
       "      <td>TSKBIS</td>\n",
       "    </tr>\n",
       "  </tbody>\n",
       "</table>\n",
       "</div>"
      ],
      "text/plain": [
       "        Ticker                                 Name Exchange Category Name  \\\n",
       "14276  TSKB.IS  Turkiye Sinai Kalkinma Bankasi A.S.      IST           NaN   \n",
       "\n",
       "      Country Ticker_clean  \n",
       "14276  Turkey       TSKBIS  "
      ]
     },
     "execution_count": 296,
     "metadata": {},
     "output_type": "execute_result"
    }
   ],
   "source": [
    "ticker_df[ticker_df['Ticker_clean'].str.startswith(token[:3])]\n"
   ]
  },
  {
   "cell_type": "code",
   "execution_count": 298,
   "metadata": {},
   "outputs": [
    {
     "data": {
      "text/plain": [
       "['TSKBIS']"
      ]
     },
     "execution_count": 298,
     "metadata": {},
     "output_type": "execute_result"
    }
   ],
   "source": [
    "[x for x in ticker_df[\"Ticker_clean\"] if x.startswith(token[:3])]\n"
   ]
  },
  {
   "cell_type": "code",
   "execution_count": 321,
   "metadata": {},
   "outputs": [],
   "source": [
    "ticker_list = ticker_df[ticker_df['Ticker_clean'].str.startswith(token[:3])]\n",
    "dists=[fuzz.ratio(token.lower(), x.lower()) for x in ticker_list['Ticker_clean']]\n",
    "ticker_row = ticker_list.iloc[dists.index(max(dists))].to_frame().transpose()\n",
    "match = str(max(dists)) + \"%\""
   ]
  },
  {
   "cell_type": "code",
   "execution_count": 327,
   "metadata": {},
   "outputs": [
    {
     "data": {
      "text/plain": [
       "0"
      ]
     },
     "execution_count": 327,
     "metadata": {},
     "output_type": "execute_result"
    }
   ],
   "source": [
    "len([])"
   ]
  }
 ],
 "metadata": {
  "kernelspec": {
   "display_name": "Python 3",
   "language": "python",
   "name": "python3"
  },
  "language_info": {
   "codemirror_mode": {
    "name": "ipython",
    "version": 3
   },
   "file_extension": ".py",
   "mimetype": "text/x-python",
   "name": "python",
   "nbconvert_exporter": "python",
   "pygments_lexer": "ipython3",
   "version": "3.8.4"
  }
 },
 "nbformat": 4,
 "nbformat_minor": 4
}
