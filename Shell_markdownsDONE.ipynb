{
 "cells": [
  {
   "cell_type": "markdown",
   "metadata": {},
   "source": [
    "# Regression vs Classification"
   ]
  },
  {
   "cell_type": "markdown",
   "metadata": {},
   "source": [
    "REGRESSION | CLASSIFICATION\n",
    "- | - \n",
    "![alt](https://github.com/robmoratore/ShellDnA/blob/master/data/images/LR.png?raw=true) | ![alt](https://github.com/robmoratore/ShellDnA/blob/master/data/images/CLASS1.png?raw=true)"
   ]
  },
  {
   "cell_type": "markdown",
   "metadata": {},
   "source": [
    "## (1) Regression"
   ]
  },
  {
   "cell_type": "markdown",
   "metadata": {},
   "source": [
    "## $$ \\hat{y}(w,x) = w_0 + w_1 x_1 + w_2 x_2 + ... + w_p x_p $$"
   ]
  },
  {
   "cell_type": "markdown",
   "metadata": {},
   "source": [
    "<img src=\"https://github.com/robmoratore/ShellDnA/blob/master/data/images/bias.png?raw=true\" />"
   ]
  },
  {
   "cell_type": "markdown",
   "metadata": {},
   "source": [
    "## (2) Classification"
   ]
  },
  {
   "cell_type": "markdown",
   "metadata": {},
   "source": [
    "###  $$\\hat{f}(w,x) = f\\bigg(\\sum_{j}w_jx_j\\bigg)$$"
   ]
  },
  {
   "cell_type": "markdown",
   "metadata": {},
   "source": [
    "### $$ \\hat{f}(x) = \\Bigr\\{ { 1 \\atop 0}  {if \\ \\textbf{w} \\cdot \\textbf{x} \\ > \\ T\\atop \\ otherwise} $$"
   ]
  },
  {
   "cell_type": "markdown",
   "metadata": {},
   "source": [
    "How to divide the classes? | |Evaluation \n",
    "- | - \n",
    "![alt](https://github.com/robmoratore/ShellDnA/blob/master/data/images/SVM1.png?raw=true) |  ![alt](https://github.com/robmoratore/ShellDnA/blob/master/data/images/PrecRec.jpg?raw=true)"
   ]
  },
  {
   "cell_type": "markdown",
   "metadata": {
    "collapsed": true
   },
   "source": [
    "# Split your data in train and test sets"
   ]
  },
  {
   "cell_type": "markdown",
   "metadata": {},
   "source": [
    "### We do that to ensure our model is able to generalize. That means, perform well on unseen data. If we train and test using the same data, the model will memorize that specific output and not learn it."
   ]
  },
  {
   "cell_type": "markdown",
   "metadata": {},
   "source": [
    "![alt](https://github.com/robmoratore/ShellDnA/blob/master/data/images/train_test.png?raw=true)"
   ]
  },
  {
   "cell_type": "markdown",
   "metadata": {},
   "source": [
    "Imaging if you would have an exam where you know the questions beforehand. You would not study to understand the topics, but rather memorize the questions and score an A, right? Machine learning models do the same. What is the potential problem with that? "
   ]
  },
  {
   "cell_type": "markdown",
   "metadata": {},
   "source": [
    "# Gradient-boosted trees"
   ]
  },
  {
   "cell_type": "markdown",
   "metadata": {},
   "source": [
    "This is one of the cleverest ways of combining multiple decision trees. Here, instead of having one single tree responsible for all the decisions, you use many trees on sequence. That means, the next tree does not try to predict the final result but the error of the previous tree. When you add all trees together, the results are generally very good"
   ]
  },
  {
   "cell_type": "markdown",
   "metadata": {},
   "source": [
    "![alt](https://github.com/robmoratore/ShellDnA/blob/master/data/images/xgb.png?raw=true)"
   ]
  },
  {
   "cell_type": "markdown",
   "metadata": {},
   "source": [
    "![alt](https://github.com/robmoratore/ShellDnA/blob/master/data/images/xgb2.png?raw=true)"
   ]
  },
  {
   "cell_type": "markdown",
   "metadata": {},
   "source": [
    "Can you think of other ways of using multiple decision trees to make predictions?"
   ]
  },
  {
   "cell_type": "markdown",
   "metadata": {},
   "source": [
    "# How to handle missing values?"
   ]
  },
  {
   "cell_type": "markdown",
   "metadata": {},
   "source": [
    "![alt](https://github.com/robmoratore/ShellDnA/blob/master/data/images/missingData.png?raw=true)"
   ]
  },
  {
   "cell_type": "markdown",
   "metadata": {},
   "source": [
    "A simple, and yet effective, way to handling missing values is to simply delete the entire row observation. What would be one downside of this approach?"
   ]
  },
  {
   "cell_type": "markdown",
   "metadata": {},
   "source": [
    "Another way is to fill the wholes with an \"educated guess\". Can you think of ways of doing that? (Hint: think statistics!)"
   ]
  },
  {
   "cell_type": "markdown",
   "metadata": {},
   "source": [
    "# Feature generation"
   ]
  },
  {
   "cell_type": "markdown",
   "metadata": {},
   "source": [
    "![alt](https://github.com/robmoratore/ShellDnA/blob/master/data/images/pipeline.png?raw=true)"
   ]
  },
  {
   "cell_type": "markdown",
   "metadata": {},
   "source": [
    "![alt](https://github.com/robmoratore/ShellDnA/blob/master/data/images/shell.png?raw=true)"
   ]
  },
  {
   "cell_type": "markdown",
   "metadata": {
    "collapsed": true
   },
   "source": [
    "Here, we can create features to distinguish a seashell image from the Shell's logo. For example, we can have a feature \"yellow\" that represents the amount of yellow pixels present in the picture (in %, for example). That feature, will help the machine learning model to distinguish between the two images. Another example is the image's simmetry (yes/no)."
   ]
  },
  {
   "cell_type": "code",
   "execution_count": null,
   "metadata": {
    "collapsed": true
   },
   "outputs": [],
   "source": []
  }
 ],
 "metadata": {
  "kernelspec": {
   "display_name": "Python 3",
   "language": "python",
   "name": "python3"
  },
  "language_info": {
   "codemirror_mode": {
    "name": "ipython",
    "version": 3
   },
   "file_extension": ".py",
   "mimetype": "text/x-python",
   "name": "python",
   "nbconvert_exporter": "python",
   "pygments_lexer": "ipython3",
   "version": "3.5.2"
  }
 },
 "nbformat": 4,
 "nbformat_minor": 2
}
